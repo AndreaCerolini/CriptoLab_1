{
  "nbformat": 4,
  "nbformat_minor": 0,
  "metadata": {
    "colab": {
      "provenance": [],
      "collapsed_sections": [
        "q3pOI5ZKLVHb"
      ],
      "include_colab_link": true
    },
    "kernelspec": {
      "name": "python3",
      "display_name": "Python 3"
    },
    "language_info": {
      "name": "python"
    }
  },
  "cells": [
    {
      "cell_type": "markdown",
      "metadata": {
        "id": "view-in-github",
        "colab_type": "text"
      },
      "source": [
        "<a href=\"https://colab.research.google.com/github/AndreaCerolini/CriptoLab_1/blob/main/CryptoLab.ipynb\" target=\"_parent\"><img src=\"https://colab.research.google.com/assets/colab-badge.svg\" alt=\"Open In Colab\"/></a>"
      ]
    },
    {
      "cell_type": "markdown",
      "source": [
        "# Criptography Lab - Cybersecurity Technologies and Risk Management\n",
        "\n",
        "Save a copy of this notebook in your local google drive to edit it"
      ],
      "metadata": {
        "id": "ZtuigfCfPfZj"
      }
    },
    {
      "cell_type": "markdown",
      "source": [
        "# RSA - Basic implementation\n",
        "#### The rsa library"
      ],
      "metadata": {
        "id": "hTQ4DhgKV5sL"
      }
    },
    {
      "cell_type": "code",
      "source": [
        "!pip install rsa"
      ],
      "metadata": {
        "id": "70WMfkIOWDI-",
        "colab": {
          "base_uri": "https://localhost:8080/"
        },
        "outputId": "57aeb566-1741-40b2-e8a8-861d84e6eb84"
      },
      "execution_count": null,
      "outputs": [
        {
          "output_type": "stream",
          "name": "stdout",
          "text": [
            "Requirement already satisfied: rsa in /usr/local/lib/python3.10/dist-packages (4.9)\n",
            "Requirement already satisfied: pyasn1>=0.1.3 in /usr/local/lib/python3.10/dist-packages (from rsa) (0.6.1)\n"
          ]
        }
      ]
    },
    {
      "cell_type": "code",
      "source": [
        "import rsa\n",
        "\n",
        "# https://en.wikipedia.org/wiki/PKCS_1\n",
        "# Generate the keys and save them in PKCS1 format\n",
        "def generateKeys():\n",
        "    (publicKey, privateKey) = rsa.newkeys(2048)\n",
        "    with open('publicKey.pem', 'wb') as p:\n",
        "        p.write(publicKey.save_pkcs1('PEM'))\n",
        "    with open('privateKey.pem', 'wb') as p:\n",
        "        p.write(privateKey.save_pkcs1('PEM'))\n",
        "\n",
        "# Load the keys and return them\n",
        "def loadKeys():\n",
        "    with open('publicKey.pem', 'rb') as p:\n",
        "        publicKey = rsa.PublicKey.load_pkcs1(p.read())\n",
        "        print(publicKey)\n",
        "    with open('privateKey.pem', 'rb') as p:\n",
        "        privateKey = rsa.PrivateKey.load_pkcs1(p.read())\n",
        "    return privateKey, publicKey\n",
        "\n",
        "# Encrypt a message string\n",
        "def encrypt(message, public_key):\n",
        "    return rsa.encrypt(message.encode('ascii'), public_key)\n",
        "\n",
        "# Decrypt a ciphertext and return False if any error occurs, the plaintext string otherwise\n",
        "def decrypt(ciphertext, private_key):\n",
        "    try:\n",
        "        return rsa.decrypt(ciphertext, private_key).decode('ascii')\n",
        "    except:\n",
        "        return False\n",
        "\n",
        "# https://www.w3.org/PICS/DSig/RSA-SHA1_1_0.html\n",
        "# Sign a message with a SHA-1 signature type\n",
        "def sign(message, private_key):\n",
        "    return rsa.sign(message.encode('ascii'), private_key, 'SHA-1')\n",
        "\n",
        "# verify the message signature, return True if the signature is correctly verified, false otherwise\n",
        "def verify(message, signature, public_key):\n",
        "    try:\n",
        "        return rsa.verify(message.encode('ascii'), signature, public_key,) == 'SHA-1'\n",
        "    except:\n",
        "        return False"
      ],
      "metadata": {
        "id": "kAZlxrDZWHO6"
      },
      "execution_count": null,
      "outputs": []
    },
    {
      "cell_type": "code",
      "source": [
        "# key generation and loading\n",
        "generateKeys()\n",
        "privateKey, publicKey = loadKeys()\n",
        "\n",
        "print(privateKey)\n",
        "\n",
        "# message to encrypt\n",
        "message = input('Write your message here:')\n",
        "\n",
        "# encryption\n",
        "ciphertext = encrypt(message, publicKey)\n",
        "\n",
        "# signature\n",
        "signature = sign(message, privateKey)\n",
        "\n",
        "# decryption\n",
        "text = decrypt(ciphertext, privateKey)\n",
        "\n",
        "# print the results\n",
        "print(f'Cipher text: {ciphertext}')\n",
        "print(f'Hex ciphertext: {ciphertext.hex()}')\n",
        "print(f'Signature: {signature}')\n",
        "\n",
        "if text:\n",
        "    print(f'Message text: {text}')\n",
        "else:\n",
        "    print(f'Unable to decrypt the message.')\n",
        "\n",
        "if verify(text, signature, publicKey):\n",
        "    print(\"Successfully verified signature\")\n",
        "else:\n",
        "    print('The message signature could not be verified')"
      ],
      "metadata": {
        "id": "PTcxmjDgc8bE"
      },
      "execution_count": null,
      "outputs": []
    },
    {
      "cell_type": "markdown",
      "source": [
        "#RSA - A \"low-level\" library\n",
        "#### pycryptodome"
      ],
      "metadata": {
        "id": "_h8CUMN5ksjZ"
      }
    },
    {
      "cell_type": "code",
      "source": [
        "!pip install pycryptodome\n",
        "\n",
        "from Crypto.PublicKey import RSA\n",
        "from Crypto.Cipher import PKCS1_OAEP\n",
        "import binascii"
      ],
      "metadata": {
        "id": "oQ9WWY1DmCWN",
        "colab": {
          "base_uri": "https://localhost:8080/"
        },
        "outputId": "c79f447a-8341-443a-e7b4-ec59dd4aa59e"
      },
      "execution_count": null,
      "outputs": [
        {
          "output_type": "stream",
          "name": "stdout",
          "text": [
            "Collecting pycryptodome\n",
            "  Downloading pycryptodome-3.21.0-cp36-abi3-manylinux_2_17_x86_64.manylinux2014_x86_64.whl.metadata (3.4 kB)\n",
            "Downloading pycryptodome-3.21.0-cp36-abi3-manylinux_2_17_x86_64.manylinux2014_x86_64.whl (2.3 MB)\n",
            "\u001b[2K   \u001b[90m━━━━━━━━━━━━━━━━━━━━━━━━━━━━━━━━━━━━━━━━\u001b[0m \u001b[32m2.3/2.3 MB\u001b[0m \u001b[31m21.7 MB/s\u001b[0m eta \u001b[36m0:00:00\u001b[0m\n",
            "\u001b[?25hInstalling collected packages: pycryptodome\n",
            "Successfully installed pycryptodome-3.21.0\n"
          ]
        }
      ]
    },
    {
      "cell_type": "code",
      "source": [
        "# This code shows how to encrypt/decrypt a message with RSA generating public key and private key \"by hand\"\n",
        "from Crypto.Util.number import getStrongPrime, bytes_to_long, long_to_bytes\n",
        "\n",
        "# generate the keys (two strong primes 1024 bits)\n",
        "p = getStrongPrime(1024)\n",
        "q = getStrongPrime(1024)\n",
        "\n",
        "n = p * q # Modulus\n",
        "phi = (p-1) * (q-1) # Euler's function\n",
        "\n",
        "e = 65537 # Exponent\n",
        "d = pow(e, -1, phi) # Private key\n",
        "\n",
        "message = \"Hello world!\"\n",
        "\n",
        "# Encryption\n",
        "pt = bytes_to_long(message.encode('utf-8'))\n",
        "print(f\"plaintext message converted in hex: {hex(pt)}\")\n",
        "ct = pow(pt, e, n) # Ciphertext\n",
        "print(f\"encrypted message converted in hex: {hex(ct)}\")\n",
        "\n",
        "# Decryption\n",
        "pt = long_to_bytes(pow(ct, d, n)) # Plaintext\n",
        "print(f\"decrypted message: {pt}\")"
      ],
      "metadata": {
        "id": "5p-KJHNLqoB2"
      },
      "execution_count": null,
      "outputs": []
    },
    {
      "cell_type": "markdown",
      "source": [
        "# Exercise 1 - RSA"
      ],
      "metadata": {
        "id": "g-YM4YwPoDnX"
      }
    },
    {
      "cell_type": "code",
      "source": [
        "# This code shows an example of how to convert an integer to bytes and viceversa\n",
        "from Crypto.Util.number import long_to_bytes, bytes_to_long\n",
        "\n",
        "message = b\"Hello!\"\n",
        "int_msg = bytes_to_long(message)\n",
        "print(int_msg)\n",
        "bytes_msg = long_to_bytes(int_msg)\n",
        "print(bytes_msg)"
      ],
      "metadata": {
        "id": "sw5bQGKFomnl"
      },
      "execution_count": null,
      "outputs": []
    },
    {
      "cell_type": "markdown",
      "source": [
        "You manage to intercept an rsa encrypted message:\n",
        "11700901449779765763508101081\n",
        "\n",
        "We know that it contains only one word\n",
        "\n",
        "We also know the public key:\n",
        "\n",
        "n = 132420683385315910791872800790076560548274292915602211551970038528407686609679552632778004136225026734894405625585255079274407744373849604560084628804772237703552168790280768702939708169783196212168917735971708699471743264252681591112502545288149137877768737422686737460701423105441179752299232063182125115961\n",
        "\n",
        "e = 2\n",
        "\n",
        "Can you retrieve the original message?"
      ],
      "metadata": {
        "id": "uScXMpt9pVsF"
      }
    },
    {
      "cell_type": "code",
      "source": [
        "# Implement your solution here"
      ],
      "metadata": {
        "id": "dRg6hBQbpZEI"
      },
      "execution_count": null,
      "outputs": []
    },
    {
      "cell_type": "markdown",
      "source": [
        "# Hashing"
      ],
      "metadata": {
        "id": "cHuMTG_-rjul"
      }
    },
    {
      "cell_type": "code",
      "source": [
        "import hashlib\n",
        "# SECURE - sha256\n",
        "m = hashlib.sha256(b\"Let's go\")\n",
        "\n",
        "# we can add as many bytes to be hashed as we want\n",
        "m.update(b\"ski!\")\n",
        "print(m.hexdigest())\n",
        "print(len(m.hexdigest()))\n",
        "\n",
        "# NOT SECURE - md5\n",
        "m = hashlib.md5(b\"a very long message that you cannot decrypt\")\n",
        "print(m.hexdigest())\n",
        "print(len(m.hexdigest()))"
      ],
      "metadata": {
        "id": "uCAE-Az6rmTy",
        "colab": {
          "base_uri": "https://localhost:8080/"
        },
        "outputId": "c69669ec-6083-46c7-d097-59dee0a454ec"
      },
      "execution_count": null,
      "outputs": [
        {
          "output_type": "stream",
          "name": "stdout",
          "text": [
            "5b0dea678179c22fb05fd12c0042302c12301532c60eb0a2fdbc3d235ab21c01\n",
            "64\n",
            "5a58057c7b30aaf96aff1b31f9f50ef1\n",
            "32\n"
          ]
        }
      ]
    },
    {
      "cell_type": "markdown",
      "source": [
        "## Excercise 2: Finding a partial hash collision\n",
        "The exam results are out! Unfortunately your grade is 18. Now you are required to send an email to accept your grade containing the sentence \"I accept my grade of 18\". An automatic grade-registering platform calculates the md5 of the text of your email, takes the first 6 characters, and checks if they equal to \"e88792\". The automatic platform only reads the sentence until the grade, everything else is discarded. Can you produce a sentence that starts with \"I accept my grade of 30\" and that has an hash equal to \"e88792\"?"
      ],
      "metadata": {
        "id": "K_AseIQnCViH"
      }
    },
    {
      "cell_type": "markdown",
      "source": [
        "## Implement your solution here\n",
        "\n",
        "\n"
      ],
      "metadata": {
        "id": "NL9yV2n6DUhr"
      }
    },
    {
      "cell_type": "code",
      "source": [
        "import hashlib\n",
        "\n",
        "m = hashlib.md5()\n",
        "grade = b\"I accept my grade of 18 \"\n",
        "m.update(grade)\n",
        "to_collide = m.hexdigest()[0:6]\n",
        "print(to_collide)\n",
        "\n",
        "# Implement solution"
      ],
      "metadata": {
        "id": "rt9rO2TaDTqp",
        "colab": {
          "base_uri": "https://localhost:8080/"
        },
        "outputId": "1666d9c0-c8a0-449a-befe-3a4092e8440d"
      },
      "execution_count": null,
      "outputs": [
        {
          "output_type": "stream",
          "name": "stdout",
          "text": [
            "e88792\n"
          ]
        }
      ]
    },
    {
      "cell_type": "markdown",
      "source": [
        "# AES"
      ],
      "metadata": {
        "id": "BZ2B9hjhGsn8"
      }
    },
    {
      "cell_type": "code",
      "source": [
        "!pip install pycryptodomex"
      ],
      "metadata": {
        "id": "1SlkvnfpGxLr",
        "colab": {
          "base_uri": "https://localhost:8080/"
        },
        "outputId": "8f31a6ef-26dc-4aff-c0f3-1d7712567f5b"
      },
      "execution_count": null,
      "outputs": [
        {
          "output_type": "stream",
          "name": "stdout",
          "text": [
            "Collecting pycryptodomex\n",
            "  Downloading pycryptodomex-3.21.0-cp36-abi3-manylinux_2_17_x86_64.manylinux2014_x86_64.whl.metadata (3.4 kB)\n",
            "Downloading pycryptodomex-3.21.0-cp36-abi3-manylinux_2_17_x86_64.manylinux2014_x86_64.whl (2.3 MB)\n",
            "\u001b[2K   \u001b[90m━━━━━━━━━━━━━━━━━━━━━━━━━━━━━━━━━━━━━━━━\u001b[0m \u001b[32m2.3/2.3 MB\u001b[0m \u001b[31m20.0 MB/s\u001b[0m eta \u001b[36m0:00:00\u001b[0m\n",
            "\u001b[?25hInstalling collected packages: pycryptodomex\n",
            "Successfully installed pycryptodomex-3.21.0\n"
          ]
        }
      ]
    },
    {
      "cell_type": "code",
      "source": [
        "from Cryptodome.Cipher import AES\n",
        "from Crypto.Util.Padding import pad, unpad\n",
        "from Crypto.Random import get_random_bytes\n",
        "\n",
        "key = get_random_bytes(16)\n",
        "\n",
        "# encrypt the plaintext and return the ciphertext\n",
        "def encrypt(plain):\n",
        "    cipher = AES.new(key, AES.MODE_ECB)\n",
        "    padded_pt = pad(plain, 16)\n",
        "    return cipher.encrypt(padded_pt)\n",
        "\n",
        "# decrypt the ciphertext and return the plaintext\n",
        "def decrypt(ciphertext):\n",
        "    cipher = AES.new(key, AES.MODE_ECB)\n",
        "    return cipher.decrypt(ciphertext)\n",
        "\n",
        "ciphertext = encrypt(b\"AAAACAAAAAABAAAABAAAAAAAAAAABAAAAAAAA\")\n",
        "print(ciphertext)\n",
        "plaintext = decrypt(ciphertext)\n",
        "print(unpad(plaintext, 16))\n"
      ],
      "metadata": {
        "id": "eN_BQ9OUG20z",
        "colab": {
          "base_uri": "https://localhost:8080/"
        },
        "outputId": "aa8c25aa-31a6-4c01-c2b6-dbf165de8f4a"
      },
      "execution_count": null,
      "outputs": [
        {
          "output_type": "stream",
          "name": "stdout",
          "text": [
            "b'&(\\xfbW\\xbcn%\\xf3\\xbc\\x9e\\xc3\\xd5\\xeeX\\xd5k(\\xeb\\x95\\xae\\xea\\x18FZU\\xd2\\xf4\\n\\xce\\x04\\xc2Z\\x9b \\xdcO4}\\x9f\\x8b\\xe1\\xcb\\xf5\\xf7\\xaa\\x01\\x84\\x16'\n",
            "b'AAAACAAAAAABAAAABAAAAAAAAAAABAAAAAAAA'\n"
          ]
        }
      ]
    },
    {
      "cell_type": "markdown",
      "source": [
        "## Exercise 3 - The ECB Oracle attack\n",
        "The oracle has spoken! It appends a secret message to what you send. Can you leak the secret?\n",
        "\n",
        "We know that the block size and the secret length are 16."
      ],
      "metadata": {
        "id": "XeSM54DFKQnK"
      }
    },
    {
      "cell_type": "markdown",
      "source": [
        "### Do not watch what's inside the next cell\n",
        "Inside this cell there is the definition of the \"encrypt\" function that the oracle uses to encrypt data.\n",
        "\n",
        "It takes the message, it appends the secret to it and finally it adds padding if the total length is not a multiple of 16"
      ],
      "metadata": {
        "id": "q3pOI5ZKLVHb"
      }
    },
    {
      "cell_type": "code",
      "source": [
        "!pip install pycryptodome\n",
        "from Cryptodome.Cipher import AES\n",
        "from Crypto.Util.Padding import pad\n",
        "\n",
        "def encrypt(plain):\n",
        "    key = b'0123456789abcedf'\n",
        "    cipher = AES.new( key, AES.MODE_ECB )\n",
        "    padded_pt = pad(plain+b'AES-ECB-leaking!', 16)\n",
        "    return cipher.encrypt(padded_pt).hex()\n"
      ],
      "metadata": {
        "id": "n_0ON0fYLdee",
        "colab": {
          "base_uri": "https://localhost:8080/"
        },
        "outputId": "1dd86f9e-9742-4d9f-9c8d-f9d5247899cd"
      },
      "execution_count": null,
      "outputs": [
        {
          "output_type": "stream",
          "name": "stdout",
          "text": [
            "Requirement already satisfied: pycryptodome in /usr/local/lib/python3.10/dist-packages (3.21.0)\n"
          ]
        }
      ]
    },
    {
      "cell_type": "markdown",
      "source": [
        "## Implement your solution here"
      ],
      "metadata": {
        "id": "E0OlrsRmL41y"
      }
    },
    {
      "cell_type": "code",
      "source": [
        "import string\n",
        "\n",
        "print(string.printable) # this can be useful to bruteforce, it contains all printable characters\n",
        "\n",
        "# This is the function that simulates an oracle. You need to used this to find the secret message\n",
        "print(encrypt(b'testmessage'))\n",
        "print(encrypt(b'')) # this will return the encrypted secret message"
      ],
      "metadata": {
        "id": "ot8dXiDdL-rt"
      },
      "execution_count": null,
      "outputs": []
    },
    {
      "cell_type": "markdown",
      "source": [
        "# PDF File Manipulation"
      ],
      "metadata": {
        "id": "pocR0O95QDyt"
      }
    },
    {
      "cell_type": "code",
      "source": [
        "!pip install pypdf\n",
        "!pip install reportlab"
      ],
      "metadata": {
        "id": "PB-E-U7vQKaH",
        "colab": {
          "base_uri": "https://localhost:8080/"
        },
        "outputId": "6c874806-f81c-4bd6-e296-3e1d2245be4d"
      },
      "execution_count": null,
      "outputs": [
        {
          "output_type": "stream",
          "name": "stdout",
          "text": [
            "Collecting pypdf\n",
            "  Downloading pypdf-5.0.1-py3-none-any.whl.metadata (7.4 kB)\n",
            "Requirement already satisfied: typing_extensions>=4.0 in /usr/local/lib/python3.10/dist-packages (from pypdf) (4.12.2)\n",
            "Downloading pypdf-5.0.1-py3-none-any.whl (294 kB)\n",
            "\u001b[2K   \u001b[90m━━━━━━━━━━━━━━━━━━━━━━━━━━━━━━━━━━━━━━━━\u001b[0m \u001b[32m294.5/294.5 kB\u001b[0m \u001b[31m4.4 MB/s\u001b[0m eta \u001b[36m0:00:00\u001b[0m\n",
            "\u001b[?25hInstalling collected packages: pypdf\n",
            "Successfully installed pypdf-5.0.1\n",
            "Collecting reportlab\n",
            "  Downloading reportlab-4.2.5-py3-none-any.whl.metadata (1.5 kB)\n",
            "Requirement already satisfied: pillow>=9.0.0 in /usr/local/lib/python3.10/dist-packages (from reportlab) (10.4.0)\n",
            "Requirement already satisfied: chardet in /usr/local/lib/python3.10/dist-packages (from reportlab) (5.2.0)\n",
            "Downloading reportlab-4.2.5-py3-none-any.whl (1.9 MB)\n",
            "\u001b[2K   \u001b[90m━━━━━━━━━━━━━━━━━━━━━━━━━━━━━━━━━━━━━━━━\u001b[0m \u001b[32m1.9/1.9 MB\u001b[0m \u001b[31m17.0 MB/s\u001b[0m eta \u001b[36m0:00:00\u001b[0m\n",
            "\u001b[?25hInstalling collected packages: reportlab\n",
            "Successfully installed reportlab-4.2.5\n"
          ]
        }
      ]
    },
    {
      "cell_type": "code",
      "source": [
        "import pypdf\n",
        "from pypdf import PdfReader, PdfWriter\n",
        "import io\n",
        "from reportlab.pdfgen import canvas\n",
        "from reportlab.lib.pagesizes import letter\n",
        "import hashlib\n",
        "\n",
        "# Create PDF File\n",
        "packet = io.BytesIO()\n",
        "can = canvas.Canvas(packet, pagesize=letter)\n",
        "can.setFont('Helvetica', 25)\n",
        "can.drawString(100, 500, \"This is a simple PDF file\")\n",
        "can.save()\n",
        "\n",
        "# Move to the beginning of the StringIO buffer\n",
        "packet.seek(0)\n",
        "\n",
        "# create a new PDF with Reportlab\n",
        "new_pdf = PdfReader(packet)\n",
        "\n",
        "output = PdfWriter()\n",
        "\n",
        "output.add_page(new_pdf.pages[0])\n",
        "output.add_metadata( {\n",
        "        \"/Author\": \"Manu\",\n",
        "        \"/Producer\": \"CTRM Course\",\n",
        "    })\n",
        "# finally, write \"output\" to a real file\n",
        "output_stream = open(\"test.pdf\", \"wb\")\n",
        "output.write(output_stream)\n",
        "output_stream.close()\n",
        "\n",
        "# How to calculate the sha256 of our PDF file\n",
        "pdf = open('test.pdf', 'rb')\n",
        "pdf_content = pdf.read()\n",
        "\n",
        "pdf_hash = hashlib.sha256(pdf_content).hexdigest()\n",
        "print(pdf_hash)"
      ],
      "metadata": {
        "colab": {
          "base_uri": "https://localhost:8080/"
        },
        "id": "OMfj08hTQRMd",
        "outputId": "bc6406d1-ec5f-413b-905e-04c198aa19b6"
      },
      "execution_count": null,
      "outputs": [
        {
          "output_type": "stream",
          "name": "stdout",
          "text": [
            "e7f09bc7b3c6b99d6e2a95f6a8c29869ba17afc006c13f63c354c022986737d3\n"
          ]
        }
      ]
    },
    {
      "cell_type": "code",
      "source": [
        "# How to load PDFs and get information on their content\n",
        "\n",
        "pdf = PdfReader(\"test.pdf\")\n",
        "print(pdf)\n",
        "\n",
        "print(pdf.metadata)\n",
        "print(pdf.pages)\n",
        "print(pdf.pages[0])\n",
        "print(pdf.pages[0].extract_text())\n"
      ],
      "metadata": {
        "id": "kWfQbzIoUH6i",
        "colab": {
          "base_uri": "https://localhost:8080/"
        },
        "outputId": "93fb0dfd-cdc7-4ee9-f3a3-101c3a992639"
      },
      "execution_count": null,
      "outputs": [
        {
          "output_type": "stream",
          "name": "stdout",
          "text": [
            "<pypdf._reader.PdfReader object at 0x7a6f3225f430>\n",
            "{'/Producer': 'CTRM Course', '/Author': 'Manu'}\n",
            "[PageObject(0)]\n",
            "{'/Contents': IndirectObject(5, 0, 134618001306672), '/MediaBox': [0, 0, 612, 792], '/Resources': {'/Font': IndirectObject(6, 0, 134618001306672), '/ProcSet': ['/PDF', '/Text', '/ImageB', '/ImageC', '/ImageI']}, '/Rotate': 0, '/Trans': {}, '/Type': '/Page', '/Parent': IndirectObject(2, 0, 134618001306672)}\n",
            "This is a simple PDF file\n",
            "\n"
          ]
        }
      ]
    }
  ]
}